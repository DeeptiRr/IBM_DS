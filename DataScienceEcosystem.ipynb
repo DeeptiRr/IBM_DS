{
 "cells": [
  {
   "cell_type": "markdown",
   "id": "ad3ed170",
   "metadata": {},
   "source": [
    "# Data Science Tools and Ecosystem"
   ]
  },
  {
   "cell_type": "markdown",
   "id": "2334cf44",
   "metadata": {},
   "source": [
    "In this notebook, Data Science Tools and Ecosystem are summarized."
   ]
  },
  {
   "cell_type": "markdown",
   "id": "9e0a11e9",
   "metadata": {},
   "source": [
    "Some of the popular languages that Data Scientists use are:\n",
    "1. Python\n",
    "2. R\n",
    "3. SQL\n",
    "4. Scala\n",
    "5. Java\n",
    "6. Julia"
   ]
  },
  {
   "cell_type": "markdown",
   "id": "5dc8e15a",
   "metadata": {},
   "source": [
    "Some of the commonly used libraries used by Data Scientists include:\n",
    "1. Pandas\n",
    "2. Numpy\n",
    "3. Matplotlib\n",
    "4. Seaborn\n",
    "5. ggplot2\n",
    "6. NLTLK\n",
    "7. PyTorch "
   ]
  },
  {
   "cell_type": "markdown",
   "id": "1d6acc28",
   "metadata": {},
   "source": [
    "Data Science tools:\n",
    "|Data Management|Data Integration & Transform|Data Visualisation|Model Deployment|Model Monitering and Assessment|\n",
    "|---------------|----------------------------|------------------|----------------|-------------------------------|\n",
    "|Apache Hadoop  |Apache Nifi                 |Matplotlib        |Flask           |KubeFlow|\n",
    "|Apache Spark   |Informatica                 |Seaborn           |FastAPI         |MLflow|\n",
    "|Apache Kafka   |AWS Glue                    |PLotly            |Docker          |Grafana|\n",
    "|Apache Airflow |Stitch                      |Tableau           |TensorFlow      |Prometheus|"
   ]
  },
  {
   "cell_type": "markdown",
   "id": "968846a9",
   "metadata": {},
   "source": [
    "### Below are a few examples of evaluating arithmetic expressions in Python"
   ]
  },
  {
   "cell_type": "code",
   "execution_count": 13,
   "id": "0b73dc45",
   "metadata": {},
   "outputs": [
    {
     "data": {
      "text/plain": [
       "17"
      ]
     },
     "execution_count": 13,
     "metadata": {},
     "output_type": "execute_result"
    }
   ],
   "source": [
    "#This a simple arithmetic expression to mutiply then add integers\n",
    "(3*4)+5"
   ]
  },
  {
   "cell_type": "code",
   "execution_count": 14,
   "id": "3a37cadd",
   "metadata": {},
   "outputs": [
    {
     "name": "stdout",
     "output_type": "stream",
     "text": [
      "3.3333333333333335 hrs\n"
     ]
    }
   ],
   "source": [
    "#This will convert 200 minutes to hours by diving by 60\n",
    "Minutes= 200\n",
    "Hours = Minutes/60\n",
    "print(Hours,\"hrs\")"
   ]
  },
  {
   "cell_type": "markdown",
   "id": "0a4beb4e",
   "metadata": {},
   "source": [
    "**Objectives:**\n",
    "List popular languages for Data Science:\n",
    "+ Python\n",
    "+ R\n",
    "+ SQL\n",
    "+ Scala\n",
    "+ Java\n",
    "+ Julia   "
   ]
  },
  {
   "cell_type": "markdown",
   "id": "16d3b7ce",
   "metadata": {},
   "source": [
    "## Author\n",
    "Deepti Yadav"
   ]
  }
 ],
 "metadata": {
  "kernelspec": {
   "display_name": "Python 3 (ipykernel)",
   "language": "python",
   "name": "python3"
  },
  "language_info": {
   "codemirror_mode": {
    "name": "ipython",
    "version": 3
   },
   "file_extension": ".py",
   "mimetype": "text/x-python",
   "name": "python",
   "nbconvert_exporter": "python",
   "pygments_lexer": "ipython3",
   "version": "3.11.5"
  }
 },
 "nbformat": 4,
 "nbformat_minor": 5
}
